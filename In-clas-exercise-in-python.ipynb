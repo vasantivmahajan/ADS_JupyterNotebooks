{
 "cells": [
  {
   "cell_type": "code",
   "execution_count": 61,
   "metadata": {
    "collapsed": false
   },
   "outputs": [
    {
     "name": "stdout",
     "output_type": "stream",
     "text": [
      "Minimum value of GPA GPA    3.06\n",
      "dtype: float64\n",
      "Maximum value of GPA GPA    4.0\n",
      "dtype: float64\n",
      "Mean value of GPA GPA    3.509706\n",
      "dtype: float64\n",
      "Median value of GPA GPA    3.5\n",
      "dtype: float64\n",
      "Minimum value of Years of Experience Years of work experience    1.0\n",
      "dtype: float64\n",
      "Maximum value of Years of Experience Years of work experience    6.0\n",
      "dtype: float64\n",
      "Mean value of Years of Experience Years of work experience    2.811765\n",
      "dtype: float64\n",
      "Median value of Years of Experience Years of work experience    2.5\n",
      "dtype: float64\n",
      "Mode of latest salary    Latest salary (per year)\n",
      "0                     60000\n",
      "Mode of expected salary    Expected Salary after graduation\n",
      "0                            100000\n",
      "Percentage of students with and without a co-op:  Y    70.588235\n",
      "N    29.411765\n",
      "Name: Coops/Internships (YN), dtype: float64\n",
      "Number of people who have more than 500 contacts on LinkedIn :  10\n",
      "The expected IQR for expected salary 10000.0\n"
     ]
    }
   ],
   "source": [
    "import pandas as pd\n",
    "my_data=pd.read_csv('C:\\\\Users\\\\Vasanti\\\\Desktop\\\\NEUdocs\\\\Studymaterial\\\\ADS\\\\Inclass_excercise\\\\DataSheet.csv')\n",
    "\n",
    "#1) Min, Max, Median, Avg for GPA and YearofWorkExp\n",
    "\n",
    "gpa_min=my_data[['GPA']].min()\n",
    "gpa_max=my_data[['GPA']].max()\n",
    "gpa_mean=my_data[['GPA']].mean()\n",
    "gpa_median=my_data[['GPA']].median()\n",
    "\n",
    "print (\"Minimum value of GPA\",gpa_min)\n",
    "print (\"Maximum value of GPA\",gpa_max)\n",
    "print(\"Mean value of GPA\",gpa_mean)\n",
    "print(\"Median value of GPA\",gpa_median)\n",
    "\n",
    "yoe_min=my_data[['Years of work experience']].min()\n",
    "yoe_max=my_data[['Years of work experience']].max()\n",
    "yoe_mean=my_data[['Years of work experience']].mean()\n",
    "yoe_median=my_data[['Years of work experience']].median()\n",
    "\n",
    "print (\"Minimum value of Years of Experience\",yoe_min)\n",
    "print (\"Maximum value of Years of Experience\",yoe_max)\n",
    "print(\"Mean value of Years of Experience\",yoe_mean)\n",
    "print(\"Median value of Years of Experience\",yoe_median)\n",
    "\n",
    "#2) Find the mode of the Salary\n",
    "\n",
    "latest_salary_mode=my_data[['Latest salary (per year)']].mode()\n",
    "expected_salary_mode=my_data[['Expected Salary after graduation']].mode()\n",
    "\n",
    "print(\"Mode of latest salary\",latest_salary_mode)\n",
    "print(\"Mode of expected salary\",expected_salary_mode)\n",
    "\n",
    "#3) % of students having Co/op and not having Co/op\n",
    "\n",
    "my_data.loc[my_data['Coops/Internships (YN)'] == \"y\", \"Coops/Internships (YN)\"] =\"Y\"\n",
    "\n",
    "#get total count of yes and no values\n",
    "print( \"Percentage of students with and without a co-op: \", my_data['Coops/Internships (YN)'].value_counts()/my_data['Coops/Internships (YN)'].count() * 100)\n",
    "\n",
    "#4) No of students with more than 500 LinkedIn contacts\n",
    "print (\"Number of people who have more than 500 contacts on LinkedIn : \",(my_data['Number of contacts on Linkedin'] > 500).sum())\n",
    "\n",
    "#5) Find the Inter Quartile Range for the Expected Salalry Range?\n",
    "#four quartiles\n",
    "quartiles = [my_data[\"Expected Salary after graduation\"].quantile(0),   \n",
    "            my_data[\"Expected Salary after graduation\"].quantile(0.25),\n",
    "            my_data[\"Expected Salary after graduation\"].quantile(0.50),\n",
    "            my_data[\"Expected Salary after graduation\"].quantile(0.75),\n",
    "            my_data[\"Expected Salary after graduation\"].quantile(1)]\n",
    "\n",
    "#finding IQR for the expected salary\n",
    "print (\"The expected IQR for expected salary\",my_data[\"Expected Salary after graduation\"].quantile(0.75) - my_data[\"Expected Salary after graduation\"].quantile(0.25))"
   ]
  },
  {
   "cell_type": "code",
   "execution_count": null,
   "metadata": {
    "collapsed": true
   },
   "outputs": [],
   "source": []
  },
  {
   "cell_type": "code",
   "execution_count": null,
   "metadata": {
    "collapsed": true
   },
   "outputs": [],
   "source": []
  }
 ],
 "metadata": {
  "anaconda-cloud": {},
  "kernelspec": {
   "display_name": "Python [conda root]",
   "language": "python",
   "name": "conda-root-py"
  },
  "language_info": {
   "codemirror_mode": {
    "name": "ipython",
    "version": 3
   },
   "file_extension": ".py",
   "mimetype": "text/x-python",
   "name": "python",
   "nbconvert_exporter": "python",
   "pygments_lexer": "ipython3",
   "version": "3.5.2"
  }
 },
 "nbformat": 4,
 "nbformat_minor": 1
}
